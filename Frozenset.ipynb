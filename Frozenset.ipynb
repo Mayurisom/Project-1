{
 "cells": [
  {
   "cell_type": "code",
   "execution_count": null,
   "id": "eec0c2de",
   "metadata": {},
   "outputs": [],
   "source": [
    "1. Unordered\n",
    "2. Duplicates are not allowed\n",
    "3. Immutable\n",
    "4. frozenset()>>> intilize\n",
    "5. we can add only immutable items"
   ]
  },
  {
   "cell_type": "code",
   "execution_count": 1,
   "id": "ab38cd3c",
   "metadata": {},
   "outputs": [
    {
     "data": {
      "text/plain": [
       "set"
      ]
     },
     "execution_count": 1,
     "metadata": {},
     "output_type": "execute_result"
    }
   ],
   "source": [
    "s1 = set()\n",
    "type(s1)"
   ]
  },
  {
   "cell_type": "code",
   "execution_count": 2,
   "id": "43d8c3a3",
   "metadata": {},
   "outputs": [
    {
     "data": {
      "text/plain": [
       "frozenset"
      ]
     },
     "execution_count": 2,
     "metadata": {},
     "output_type": "execute_result"
    }
   ],
   "source": [
    "s1 = frozenset()\n",
    "type(s1)"
   ]
  },
  {
   "cell_type": "code",
   "execution_count": 4,
   "id": "f0704a58",
   "metadata": {},
   "outputs": [
    {
     "data": {
      "text/plain": [
       "{2, 3, 4, 5}"
      ]
     },
     "execution_count": 4,
     "metadata": {},
     "output_type": "execute_result"
    }
   ],
   "source": [
    "s1 = set((2,3,4,5,3))\n",
    "s1"
   ]
  },
  {
   "cell_type": "code",
   "execution_count": 5,
   "id": "03392f7b",
   "metadata": {},
   "outputs": [
    {
     "data": {
      "text/plain": [
       "frozenset({2, 3, 4, 5})"
      ]
     },
     "execution_count": 5,
     "metadata": {},
     "output_type": "execute_result"
    }
   ],
   "source": [
    "s1 = frozenset((2,3,4,5,3,5))\n",
    "s1"
   ]
  },
  {
   "cell_type": "code",
   "execution_count": 6,
   "id": "477aa22c",
   "metadata": {},
   "outputs": [
    {
     "ename": "AttributeError",
     "evalue": "'frozenset' object has no attribute 'add'",
     "output_type": "error",
     "traceback": [
      "\u001b[1;31m---------------------------------------------------------------------------\u001b[0m",
      "\u001b[1;31mAttributeError\u001b[0m                            Traceback (most recent call last)",
      "\u001b[1;32m~\\AppData\\Local\\Temp/ipykernel_8760/444192980.py\u001b[0m in \u001b[0;36m<module>\u001b[1;34m\u001b[0m\n\u001b[1;32m----> 1\u001b[1;33m \u001b[0ms1\u001b[0m\u001b[1;33m.\u001b[0m\u001b[0madd\u001b[0m\u001b[1;33m(\u001b[0m\u001b[1;36m4\u001b[0m\u001b[1;33m)\u001b[0m\u001b[1;33m\u001b[0m\u001b[1;33m\u001b[0m\u001b[0m\n\u001b[0m",
      "\u001b[1;31mAttributeError\u001b[0m: 'frozenset' object has no attribute 'add'"
     ]
    }
   ],
   "source": [
    "s1.add(4) # immutable"
   ]
  },
  {
   "cell_type": "markdown",
   "id": "f919a14e",
   "metadata": {},
   "source": [
    "#### 1. Union"
   ]
  },
  {
   "cell_type": "code",
   "execution_count": 7,
   "id": "ad63025a",
   "metadata": {},
   "outputs": [
    {
     "data": {
      "text/plain": [
       "frozenset({1, 2, 3, 4, 5, 10, 20, 30, 40, 50})"
      ]
     },
     "execution_count": 7,
     "metadata": {},
     "output_type": "execute_result"
    }
   ],
   "source": [
    "fs1 = frozenset({1,2,3,4,5})\n",
    "fs2 = frozenset({10,20,30,40,50})\n",
    "fs1.union(fs2)"
   ]
  },
  {
   "cell_type": "code",
   "execution_count": 8,
   "id": "a16cb303",
   "metadata": {},
   "outputs": [
    {
     "data": {
      "text/plain": [
       "frozenset({1, 2, 3, 4, 5, 20, 30, 40, 50})"
      ]
     },
     "execution_count": 8,
     "metadata": {},
     "output_type": "execute_result"
    }
   ],
   "source": [
    "fs1 = frozenset({1,2,3,4,5})\n",
    "fs2 = frozenset({1,20,30,40,50})\n",
    "fs1.union(fs2) # return unique value from both sets"
   ]
  },
  {
   "cell_type": "code",
   "execution_count": 9,
   "id": "4b6c9d94",
   "metadata": {},
   "outputs": [
    {
     "name": "stdout",
     "output_type": "stream",
     "text": [
      "frozenset({1, 2, 3, 4, 5})\n",
      "frozenset({1, 50, 20, 40, 30})\n"
     ]
    }
   ],
   "source": [
    "print(fs1)\n",
    "print(fs2)"
   ]
  },
  {
   "cell_type": "markdown",
   "id": "30a441f5",
   "metadata": {},
   "source": [
    "#### 2. intersection"
   ]
  },
  {
   "cell_type": "code",
   "execution_count": 10,
   "id": "7b360ab9",
   "metadata": {},
   "outputs": [
    {
     "data": {
      "text/plain": [
       "frozenset({1})"
      ]
     },
     "execution_count": 10,
     "metadata": {},
     "output_type": "execute_result"
    }
   ],
   "source": [
    "fs1 = frozenset({1,2,3,4,5})\n",
    "fs2 = frozenset({1,20,30,40,50})\n",
    "fs1.intersection(fs2) # return common"
   ]
  },
  {
   "cell_type": "code",
   "execution_count": 11,
   "id": "656de079",
   "metadata": {},
   "outputs": [
    {
     "data": {
      "text/plain": [
       "frozenset({1, 5})"
      ]
     },
     "execution_count": 11,
     "metadata": {},
     "output_type": "execute_result"
    }
   ],
   "source": [
    "fs1 = frozenset({1,2,3,4,5})\n",
    "fs2 = frozenset({1,20,30,40,5})\n",
    "fs1.intersection(fs2) # return common"
   ]
  },
  {
   "cell_type": "markdown",
   "id": "49ce2b8c",
   "metadata": {},
   "source": [
    "#### 3) difference"
   ]
  },
  {
   "cell_type": "code",
   "execution_count": 13,
   "id": "84f83c49",
   "metadata": {},
   "outputs": [
    {
     "data": {
      "text/plain": [
       "frozenset({1, 3, 5})"
      ]
     },
     "execution_count": 13,
     "metadata": {},
     "output_type": "execute_result"
    }
   ],
   "source": [
    "fs1 = frozenset({1,2,3,4,5,30,40})\n",
    "fs2 = frozenset({2,10,20,30,40,50,60,2,4})\n",
    "fs1.difference(fs2) # return unique value from fs1 {1,3,5}"
   ]
  },
  {
   "cell_type": "code",
   "execution_count": 14,
   "id": "9cb67b8b",
   "metadata": {},
   "outputs": [
    {
     "data": {
      "text/plain": [
       "frozenset({10, 20, 50, 60})"
      ]
     },
     "execution_count": 14,
     "metadata": {},
     "output_type": "execute_result"
    }
   ],
   "source": [
    "fs1 = frozenset({1,2,3,4,5,30,40})\n",
    "fs2 = frozenset({2,10,20,30,40,50,60,2,4})\n",
    "fs2.difference(fs1) # return unique value from fs2 {10,20,50,60}"
   ]
  },
  {
   "cell_type": "markdown",
   "id": "16540e71",
   "metadata": {},
   "source": [
    "#### 4) symmetric_differnce"
   ]
  },
  {
   "cell_type": "code",
   "execution_count": 15,
   "id": "431ca155",
   "metadata": {},
   "outputs": [
    {
     "data": {
      "text/plain": [
       "frozenset({1, 3, 5, 10, 20, 50, 60})"
      ]
     },
     "execution_count": 15,
     "metadata": {},
     "output_type": "execute_result"
    }
   ],
   "source": [
    "fs1 = frozenset({1,2,3,4,5,30,40})\n",
    "fs2 = frozenset({2,10,20,30,40,50,60,2,4})\n",
    "fs2.symmetric_difference(fs1) # return unique value from both {10,20,50,60}"
   ]
  },
  {
   "cell_type": "markdown",
   "id": "88d02aa9",
   "metadata": {},
   "source": [
    "##### 5) issubset()"
   ]
  },
  {
   "cell_type": "code",
   "execution_count": 16,
   "id": "9e42fd1f",
   "metadata": {},
   "outputs": [
    {
     "data": {
      "text/plain": [
       "False"
      ]
     },
     "execution_count": 16,
     "metadata": {},
     "output_type": "execute_result"
    }
   ],
   "source": [
    "fs1 = frozenset({3,4,5,6,7,8,9})\n",
    "fs2 = frozenset({1,2,3,4,5})\n",
    "fs2.issubset(fs1)"
   ]
  },
  {
   "cell_type": "code",
   "execution_count": 17,
   "id": "c18d7017",
   "metadata": {},
   "outputs": [
    {
     "data": {
      "text/plain": [
       "True"
      ]
     },
     "execution_count": 17,
     "metadata": {},
     "output_type": "execute_result"
    }
   ],
   "source": [
    "fs1 = frozenset({3,4,5,6,7,8,9})\n",
    "fs2 = frozenset({3,4,5})\n",
    "fs2.issubset(fs1)"
   ]
  },
  {
   "cell_type": "code",
   "execution_count": 18,
   "id": "2cbab0e9",
   "metadata": {},
   "outputs": [
    {
     "data": {
      "text/plain": [
       "False"
      ]
     },
     "execution_count": 18,
     "metadata": {},
     "output_type": "execute_result"
    }
   ],
   "source": [
    "fs1 = frozenset({3,4,5,6,7,8,9})\n",
    "fs2 = frozenset({1,2,3,4,5})\n",
    "fs1.issubset(fs2)"
   ]
  },
  {
   "cell_type": "markdown",
   "id": "ed3804a7",
   "metadata": {},
   "source": [
    "#### 6) issuperset()"
   ]
  },
  {
   "cell_type": "code",
   "execution_count": 19,
   "id": "f433493d",
   "metadata": {},
   "outputs": [
    {
     "data": {
      "text/plain": [
       "True"
      ]
     },
     "execution_count": 19,
     "metadata": {},
     "output_type": "execute_result"
    }
   ],
   "source": [
    "fs1 = frozenset({3,4,5,6,7,8,9})\n",
    "fs2 = frozenset({3,4,5})\n",
    "fs1.issuperset(fs2)"
   ]
  },
  {
   "cell_type": "code",
   "execution_count": 20,
   "id": "6d529a8b",
   "metadata": {},
   "outputs": [
    {
     "data": {
      "text/plain": [
       "False"
      ]
     },
     "execution_count": 20,
     "metadata": {},
     "output_type": "execute_result"
    }
   ],
   "source": [
    "fs1 = frozenset({3,4,5,6,7,8,9})\n",
    "fs2 = frozenset({3,4,5})\n",
    "fs2.issuperset(fs1)"
   ]
  },
  {
   "cell_type": "markdown",
   "id": "de142081",
   "metadata": {},
   "source": [
    "##### 7) isdisjoint"
   ]
  },
  {
   "cell_type": "code",
   "execution_count": 21,
   "id": "c097fdb3",
   "metadata": {},
   "outputs": [
    {
     "data": {
      "text/plain": [
       "False"
      ]
     },
     "execution_count": 21,
     "metadata": {},
     "output_type": "execute_result"
    }
   ],
   "source": [
    "fs1 = frozenset({3,4,5,6,7,8,9})\n",
    "fs2 = frozenset({3,40,50})\n",
    "fs1.isdisjoint(fs2)"
   ]
  },
  {
   "cell_type": "code",
   "execution_count": 22,
   "id": "bfabe1dd",
   "metadata": {},
   "outputs": [
    {
     "data": {
      "text/plain": [
       "True"
      ]
     },
     "execution_count": 22,
     "metadata": {},
     "output_type": "execute_result"
    }
   ],
   "source": [
    "fs1 = frozenset({3,4,5,6,7,8,9})\n",
    "fs2 = frozenset({30,40,50})\n",
    "fs1.isdisjoint(fs2)"
   ]
  },
  {
   "cell_type": "code",
   "execution_count": null,
   "id": "9e2b8249",
   "metadata": {},
   "outputs": [],
   "source": []
  }
 ],
 "metadata": {
  "kernelspec": {
   "display_name": "Python 3 (ipykernel)",
   "language": "python",
   "name": "python3"
  },
  "language_info": {
   "codemirror_mode": {
    "name": "ipython",
    "version": 3
   },
   "file_extension": ".py",
   "mimetype": "text/x-python",
   "name": "python",
   "nbconvert_exporter": "python",
   "pygments_lexer": "ipython3",
   "version": "3.9.7"
  }
 },
 "nbformat": 4,
 "nbformat_minor": 5
}
