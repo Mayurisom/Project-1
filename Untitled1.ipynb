{
 "cells": [
  {
   "cell_type": "code",
   "execution_count": 5,
   "id": "e3b35210",
   "metadata": {},
   "outputs": [],
   "source": [
    "from pdf2image import convert_from_path\n",
    "from PIL import Image\n",
    "import pytesseract\n",
    "import os\n",
    "import re\n",
    "import glob\n",
    "import pandas as pd\n",
    "import pytesseract\n",
    "import pdf2image"
   ]
  },
  {
   "cell_type": "code",
   "execution_count": 14,
   "id": "4cc1b28b",
   "metadata": {},
   "outputs": [],
   "source": [
    "class Document_details():\n",
    "    def __init__(self):\n",
    "        self.folder_path = os.getcwd()\n",
    "        self.folder_name = \"project-1\"\n",
    "        self.pdf_path = os.path.join(self.folder_path,self.folder_name)\n",
    "        self.doc_path = os.path.join(self.folder_path,self.folder_name)\n",
    "        self.folder_path = os.listdir()\n",
    "        #self.folder_path = glob.glob(pdf_path + \"\\\\\" + \"*.pdf\")\n",
    "        self.path = r\"C:\\Users\\Mayuri\\AppData\\Local\\Programs\\Tesseract-OCR\\tesseract.exe\"\n",
    "        self.path1 =r'C:\\Program Files (x86)\\poppler-23.08.0\\Library\\bin'\n",
    "        print(self.folder_path)\n",
    "        \n",
    "        \n",
    "        "
   ]
  },
  {
   "cell_type": "code",
   "execution_count": 15,
   "id": "17809397",
   "metadata": {},
   "outputs": [
    {
     "name": "stdout",
     "output_type": "stream",
     "text": [
      "['.ipynb_checkpoints', 'A1.JPEG', 'doc', 'doc1_detail.csv', 'doc_detail.csv', 'OCR.ipynb', 'pdf', 'Untitled.ipynb', 'Untitled1.ipynb']\n"
     ]
    }
   ],
   "source": [
    "obj = Document_details()"
   ]
  },
  {
   "cell_type": "code",
   "execution_count": null,
   "id": "0ad35387",
   "metadata": {},
   "outputs": [],
   "source": []
  },
  {
   "cell_type": "code",
   "execution_count": null,
   "id": "e82cd8d0",
   "metadata": {},
   "outputs": [],
   "source": []
  }
 ],
 "metadata": {
  "kernelspec": {
   "display_name": "Python 3 (ipykernel)",
   "language": "python",
   "name": "python3"
  },
  "language_info": {
   "codemirror_mode": {
    "name": "ipython",
    "version": 3
   },
   "file_extension": ".py",
   "mimetype": "text/x-python",
   "name": "python",
   "nbconvert_exporter": "python",
   "pygments_lexer": "ipython3",
   "version": "3.10.9"
  }
 },
 "nbformat": 4,
 "nbformat_minor": 5
}
